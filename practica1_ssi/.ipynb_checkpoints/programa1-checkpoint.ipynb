{
 "cells": [
  {
   "cell_type": "code",
   "execution_count": 1,
   "id": "3ee1752e-cde2-4a59-a5bc-49572891315c",
   "metadata": {},
   "outputs": [],
   "source": [
    "import datetime\n",
    "import os\n",
    "import shutil"
   ]
  },
  {
   "cell_type": "code",
   "execution_count": 2,
   "id": "cec7e764-6464-4e87-990a-a2ac928b2c1c",
   "metadata": {},
   "outputs": [],
   "source": [
    "dt = datetime.datetime.now()"
   ]
  },
  {
   "cell_type": "code",
   "execution_count": 3,
   "id": "07dd7bdd-8fe8-456f-ab90-9373fad5e2d8",
   "metadata": {},
   "outputs": [],
   "source": [
    "nombre = \"Copia de seguridad creada el dia {} del año {} y la hora {} mes {} minuto {}\".format(dt.day,dt.year,dt.hour,dt.month,dt.minute)"
   ]
  },
  {
   "cell_type": "code",
   "execution_count": 4,
   "id": "b3e0f525-3f13-4768-b1c5-d6a6fc0eb41b",
   "metadata": {},
   "outputs": [
    {
     "data": {
      "text/plain": [
       "'C:\\\\Users\\\\axel9\\\\Documents\\\\Python_examples\\\\Copia de seguridad creada el dia 20 del año 2023 y la hora 14 mes 8 minuto 57.zip'"
      ]
     },
     "execution_count": 4,
     "metadata": {},
     "output_type": "execute_result"
    }
   ],
   "source": [
    "shutil.make_archive(nombre,\"zip\",\"carpeta_respaldo\")"
   ]
  },
  {
   "cell_type": "code",
   "execution_count": 5,
   "id": "89ec6e9d-cd5f-4cf3-b4df-abde94acb934",
   "metadata": {},
   "outputs": [],
   "source": [
    "comienzo = []"
   ]
  },
  {
   "cell_type": "code",
   "execution_count": 6,
   "id": "abeab7c3-54e8-414e-80ed-2f80d27194ee",
   "metadata": {},
   "outputs": [],
   "source": [
    "total = os.listdir()"
   ]
  },
  {
   "cell_type": "code",
   "execution_count": 7,
   "id": "5e5a8c38-59cc-49eb-b19f-6e703f23cd4f",
   "metadata": {},
   "outputs": [],
   "source": [
    "for a in total:\n",
    "    if a.startswith(\"Copia de seguridad creada \") == True:\n",
    "        comienzo.append(a)"
   ]
  },
  {
   "cell_type": "code",
   "execution_count": 8,
   "id": "8397688a-23e6-4921-b0c5-13bc0a28cc07",
   "metadata": {},
   "outputs": [],
   "source": [
    "rutadestino = \"C:/Users/axel9/Documents/Seguridad_Sis\""
   ]
  },
  {
   "cell_type": "code",
   "execution_count": 9,
   "id": "00c98780-70c3-46f0-a191-e72e228c1d72",
   "metadata": {},
   "outputs": [],
   "source": [
    "for i in comienzo:\n",
    "    shutil.move(i,rutadestino)"
   ]
  },
  {
   "cell_type": "code",
   "execution_count": null,
   "id": "abbfea7c-4047-40a3-8029-3287d2c4d2f4",
   "metadata": {},
   "outputs": [],
   "source": []
  }
 ],
 "metadata": {
  "kernelspec": {
   "display_name": "Python 3 (ipykernel)",
   "language": "python",
   "name": "python3"
  },
  "language_info": {
   "codemirror_mode": {
    "name": "ipython",
    "version": 3
   },
   "file_extension": ".py",
   "mimetype": "text/x-python",
   "name": "python",
   "nbconvert_exporter": "python",
   "pygments_lexer": "ipython3",
   "version": "3.11.4"
  }
 },
 "nbformat": 4,
 "nbformat_minor": 5
}
